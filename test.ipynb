{
 "cells": [
  {
   "cell_type": "code",
   "execution_count": 1,
   "metadata": {},
   "outputs": [
    {
     "data": {
      "text/plain": [
       "'pbkdf2:sha256:50000$AM4mU066$3aa26a5242231bf73dbacc4cd80dc16d4dd9323bce5830ccf810cbc727667e2a'"
      ]
     },
     "execution_count": 1,
     "metadata": {},
     "output_type": "execute_result"
    }
   ],
   "source": [
    "from werkzeug.security import generate_password_hash, check_password_hash\n",
    "generate_password_hash('admin')"
   ]
  },
  {
   "cell_type": "code",
   "execution_count": 3,
   "metadata": {},
   "outputs": [
    {
     "data": {
      "text/plain": [
       "'局直学校,高中,完中,四星级,初中,小学,幼儿园,民办学校,通中片,通西片,通南片,九年一贯制'"
      ]
     },
     "execution_count": 3,
     "metadata": {},
     "output_type": "execute_result"
    }
   ],
   "source": [
    "label_str=',局直学校,高中,完中,四星级,初中,小学,幼儿园,民办学校,通中片,通西片,通南片,九年一贯制,'\n",
    "label_str=label_str.strip(',')\n",
    "label_str"
   ]
  },
  {
   "cell_type": "code",
   "execution_count": 53,
   "metadata": {},
   "outputs": [
    {
     "data": {
      "text/plain": [
       "['局直学校',\n",
       " '高中',\n",
       " '完中',\n",
       " '四星级',\n",
       " '初中',\n",
       " '小学',\n",
       " '幼儿园',\n",
       " '民办学校',\n",
       " '通中片',\n",
       " '通西片',\n",
       " '通南片',\n",
       " '九年一贯制']"
      ]
     },
     "execution_count": 53,
     "metadata": {},
     "output_type": "execute_result"
    }
   ],
   "source": [
    "label_arr=label_str.split(',')\n",
    "label_arr"
   ]
  },
  {
   "cell_type": "code",
   "execution_count": 58,
   "metadata": {},
   "outputs": [
    {
     "data": {
      "text/plain": [
       "'[\"{\\'label\\':\\'局直学校\\'}\", \"{\\'label\\':\\'高中\\'}\", \"{\\'label\\':\\'完中\\'}\", \"{\\'label\\':\\'四星级\\'}\", \"{\\'label\\':\\'初中\\'}\", \"{\\'label\\':\\'小学\\'}\", \"{\\'label\\':\\'幼儿园\\'}\", \"{\\'label\\':\\'民办学校\\'}\", \"{\\'label\\':\\'通中片\\'}\", \"{\\'label\\':\\'通西片\\'}\", \"{\\'label\\':\\'通南片\\'}\", \"{\\'label\\':\\'九年一贯制\\'}\"]'"
      ]
     },
     "execution_count": 58,
     "metadata": {},
     "output_type": "execute_result"
    }
   ],
   "source": [
    "import json\n",
    "a=[]\n",
    "for item in label_arr:\n",
    "    a.append(\"{'label':'%s'}\" % (item))\n",
    "str(a)"
   ]
  },
  {
   "cell_type": "code",
   "execution_count": 52,
   "metadata": {},
   "outputs": [
    {
     "data": {
      "text/plain": [
       "['{label:局直学校}',\n",
       " '{label:高中}',\n",
       " '{label:完中}',\n",
       " '{label:四星级}',\n",
       " '{label:初中}',\n",
       " '{label:小学}',\n",
       " '{label:幼儿园}',\n",
       " '{label:民办学校}',\n",
       " '{label:通中片}',\n",
       " '{label:通西片}',\n",
       " '{label:通南片}',\n",
       " '{label:九年一贯制}']"
      ]
     },
     "execution_count": 52,
     "metadata": {},
     "output_type": "execute_result"
    }
   ],
   "source": [
    "\n",
    "\n",
    "list_json=map(lambda x: \"{label:%s}\" % (x),label_arr)\n",
    "list(list_json)"
   ]
  },
  {
   "cell_type": "code",
   "execution_count": 24,
   "metadata": {},
   "outputs": [
    {
     "data": {
      "text/plain": [
       "{'label': '九年一贯制'}"
      ]
     },
     "execution_count": 24,
     "metadata": {},
     "output_type": "execute_result"
    }
   ],
   "source": [
    "key=['label']*len(label_arr)\n",
    "dict(zip(key,label_arr))"
   ]
  },
  {
   "cell_type": "code",
   "execution_count": 36,
   "metadata": {},
   "outputs": [
    {
     "name": "stdout",
     "output_type": "stream",
     "text": [
      "局直学校\n",
      "高中\n",
      "完中\n",
      "四星级\n",
      "初中\n",
      "小学\n",
      "幼儿园\n",
      "民办学校\n",
      "通中片\n",
      "通西片\n",
      "通南片\n",
      "九年一贯制\n"
     ]
    }
   ],
   "source": [
    "for item in label_arr:\n",
    "    print(item.strip())"
   ]
  },
  {
   "cell_type": "code",
   "execution_count": 46,
   "metadata": {},
   "outputs": [
    {
     "data": {
      "text/plain": [
       "'label:x'"
      ]
     },
     "execution_count": 46,
     "metadata": {},
     "output_type": "execute_result"
    }
   ],
   "source": [
    "\"label:%s\" % ('x')"
   ]
  },
  {
   "cell_type": "code",
   "execution_count": null,
   "metadata": {},
   "outputs": [],
   "source": []
  }
 ],
 "metadata": {
  "kernelspec": {
   "display_name": "Python 3",
   "language": "python",
   "name": "python3"
  },
  "language_info": {
   "codemirror_mode": {
    "name": "ipython",
    "version": 3
   },
   "file_extension": ".py",
   "mimetype": "text/x-python",
   "name": "python",
   "nbconvert_exporter": "python",
   "pygments_lexer": "ipython3",
   "version": "3.6.5"
  }
 },
 "nbformat": 4,
 "nbformat_minor": 2
}
